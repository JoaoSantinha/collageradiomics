{
 "cells": [
  {
   "cell_type": "code",
   "execution_count": null,
   "metadata": {},
   "outputs": [],
   "source": [
    "import matplotlib.pyplot as plt\n",
    "import numpy as np\n",
    "import random\n",
    "import math\n",
    "import SimpleITK as sitk\n",
    "import mahotas as mt\n",
    "import imageio\n",
    "\n",
    "from PIL import Image\n",
    "from matplotlib.patches import Rectangle\n",
    "from scipy import linalg\n",
    "from skimage.util.shape import view_as_windows\n",
    "from matplotlib.gridspec import GridSpec\n",
    "from mpl_toolkits.axes_grid1 import make_axes_locatable\n",
    "from itertools import product\n",
    "from skimage.feature.texture import greycomatrix\n",
    "from collageradiomics import Collage, HaralickFeature, show_colored_image, InformationMeasureOfCorrelation1Interpretation, scale_array_for_image\n",
    "from datetime import datetime"
   ]
  },
  {
   "cell_type": "code",
   "execution_count": null,
   "metadata": {
    "scrolled": true
   },
   "outputs": [],
   "source": [
    "# Read images\n",
    "image_paths = ['../../sample_data/BrainSliceTumor.png', '../../sample_data/ImageSlice.png', '../../sample_data/ImageSlice2.png']\n",
    "mask_paths = ['../../sample_data/BrainSliceTumorMask.png', '../../sample_data/ImageNonRectangularMask.png', '../../sample_data/ImageNonRectangularMask2.png']\n",
    "images_list = []\n",
    "masks_list = []\n",
    "for path in image_paths:\n",
    "    image_sitk = sitk.ReadImage(path)\n",
    "    image_array = sitk.GetArrayFromImage(image_sitk)\n",
    "    images_list.append(image_array)\n",
    "\n",
    "for path in mask_paths:\n",
    "    mask_sitk = sitk.ReadImage(path)\n",
    "    mask_array = sitk.GetArrayFromImage(mask_sitk)\n",
    "    masks_list.append(mask_array)"
   ]
  },
  {
   "cell_type": "code",
   "execution_count": null,
   "metadata": {},
   "outputs": [],
   "source": [
    "collage = Collage.from_multiple_images(\n",
    "    images_list, \n",
    "    masks_list, \n",
    "    svd_radius=5, \n",
    "    verbose_logging=True, \n",
    "    haralick_feature_list=[HaralickFeature.All], \n",
    "    log_sample_rate=500, \n",
    "    cooccurence_angles=[0, 1*np.pi/4, 2*np.pi/4, 3*np.pi/4, 4*np.pi/4, 5*np.pi/4, 6*np.pi/4, 7*np.pi/4],\n",
    "    information_measure_correlation1_interpretation = InformationMeasureOfCorrelation1Interpretation.XMinusYVariance,\n",
    "    haralick_window_size=-1,\n",
    "    greylevels=64\n",
    ")"
   ]
  },
  {
   "cell_type": "code",
   "execution_count": null,
   "metadata": {
    "scrolled": false
   },
   "outputs": [],
   "source": [
    "# Run CoLlage Algorithm.\n",
    "full_images = collage.execute()"
   ]
  },
  {
   "cell_type": "code",
   "execution_count": null,
   "metadata": {},
   "outputs": [],
   "source": [
    "# Display gradient\n",
    "for single_collage in collage.collages:\n",
    "    figure, axes = plt.subplots(1, 2, figsize=(15, 15))\n",
    "    show_colored_image(figure, axes[0], single_collage.dx)\n",
    "    axes[0].set_title(f'Gx size={single_collage.dx.shape}')\n",
    "    show_colored_image(figure, axes[1], single_collage.dy)\n",
    "    axes[1].set_title(f'Gy size={single_collage.dy.shape}')"
   ]
  },
  {
   "cell_type": "code",
   "execution_count": null,
   "metadata": {
    "scrolled": false
   },
   "outputs": [],
   "source": [
    "# Display dominant angles\n",
    "for single_collage in collage.collages:\n",
    "    figure, axes = plt.subplots(1, 2, figsize=(15, 15))\n",
    "    show_colored_image(figure, axes[0], single_collage.dominant_angles_array)\n",
    "    axes[0].set_title('Dominant Angles (SVD)')\n",
    "    show_colored_image(figure, axes[1], single_collage.dominant_angles_shaped)\n",
    "    axes[1].set_title('Dominant Angles (Color Binned)')"
   ]
  },
  {
   "cell_type": "code",
   "execution_count": null,
   "metadata": {},
   "outputs": [],
   "source": [
    "# Display dominant angles color-binned\n",
    "for single_collage in collage.collages:\n",
    "    figure, axis = plt.subplots(1,1, figsize=(5,5))\n",
    "    show_colored_image(figure, axis, single_collage.dominant_angles_shaped)"
   ]
  },
  {
   "cell_type": "code",
   "execution_count": null,
   "metadata": {
    "scrolled": false
   },
   "outputs": [],
   "source": [
    "# Display haralick\n",
    "for single_collage in collage.collages:\n",
    "    figure, axes = plt.subplots(3, 5, figsize=(15,15))\n",
    "\n",
    "    for row in range(3):\n",
    "        for col in range(5):\n",
    "            feature = row*5+col\n",
    "            axis = axes[row][col]\n",
    "            axis.set_axis_off()\n",
    "            if feature>=13:\n",
    "                continue\n",
    "            show_colored_image(figure, axis, single_collage.haralick_features[:,:,feature])\n",
    "            axis.set_title(f'Har {feature+1}')"
   ]
  },
  {
   "cell_type": "code",
   "execution_count": null,
   "metadata": {
    "scrolled": false
   },
   "outputs": [],
   "source": [
    "# Display full Haralick images with masked region.\n",
    "for single_collage in collage.collages:\n",
    "    aspect = single_collage.img_array.shape[1] / single_collage.img_array.shape[0]\n",
    "    figsize = 15 / aspect\n",
    "    figure, axes = plt.subplots(3, 5, figsize=(figsize * aspect, figsize))\n",
    "\n",
    "    for row in range(3):\n",
    "        for col in range(5):\n",
    "            feature = row*5+col\n",
    "            axis = axes[row][col]\n",
    "            axis.set_axis_off()\n",
    "            if feature>=13:\n",
    "                continue\n",
    "            show_colored_image(figure, axis, single_collage.full_masked_images[feature])\n",
    "            axis.set_title(f'Haralick {feature+1}')"
   ]
  },
  {
   "cell_type": "code",
   "execution_count": null,
   "metadata": {
    "scrolled": false
   },
   "outputs": [],
   "source": [
    "# Show preview of larger version of image.\n",
    "for single_collage in collage.collages:\n",
    "    plt.figure(figsize = (figsize * aspect, figsize))\n",
    "    figure = plt.imshow(single_collage.full_masked_images[0], cmap = plt.cm.jet)\n",
    "    figure.axes.get_xaxis().set_visible(False)\n",
    "    figure.axes.get_yaxis().set_visible(False)\n",
    "    plt.title('Haralick 1 Preview')"
   ]
  },
  {
   "cell_type": "code",
   "execution_count": null,
   "metadata": {},
   "outputs": [],
   "source": [
    "import logging\n",
    "logger = logging.getLogger('imageio').setLevel(logging.ERROR)\n",
    "\n",
    "def scale_array_for_image(array_to_scale):\n",
    "    flat_array = array_to_scale.flatten()\n",
    "    minimum = float(min(flat_array))\n",
    "    maximum = float(max(flat_array))\n",
    "    array_range = maximum - minimum\n",
    "    array_to_scale = array_to_scale - minimum\n",
    "    array_to_scale /= array_range\n",
    "    array_to_scale *= 255\n",
    "    return array_to_scale\n",
    "\n",
    "def write_haralick_image(single_collage, feature, directory, image_path):\n",
    "    haralick = scale_array_for_image(single_collage.haralick_features[:,:,feature])\n",
    "    haralick = haralick.astype('uint8')\n",
    "    imageio.imwrite(f'{directory}/haralick-feature-{feature + 1}.png', plt.cm.jet(haralick))\n",
    "    img = Image.open(f'{directory}/haralick-feature-{feature + 1}.png')\n",
    "    img = img.convert('RGBA')\n",
    "    pixdata = img.load()\n",
    "\n",
    "    width, height = img.size\n",
    "    for y in range(height):\n",
    "        for x in range(width):\n",
    "            if pixdata[x, y] == (0, 0, 127, 255) or pixdata[x, y] == (127, 0, 0, 255):\n",
    "                pixdata[x, y] = (255, 255, 255, 0)\n",
    "\n",
    "    img.save(f'{directory}/haralick-feature-{feature + 1}.png', 'PNG')\n",
    "    background = Image.open(image_path)\n",
    "    foreground = Image.open(f'{directory}/haralick-feature-{feature + 1}.png')\n",
    "\n",
    "    background = background.convert('RGBA')\n",
    "    background.paste(foreground, (single_collage.mask_min_x, single_collage.mask_min_y), foreground)\n",
    "    background.show()\n",
    "    background.save(f'{directory}/haralick-feature-{feature + 1}.png')"
   ]
  },
  {
   "cell_type": "code",
   "execution_count": null,
   "metadata": {
    "scrolled": false
   },
   "outputs": [],
   "source": [
    "import pathlib\n",
    "\n",
    "now = datetime.now()\n",
    "date_string = now.strftime(\"%m%d%Y-%H%M%S\")\n",
    "\n",
    "# Writes images to output_data directory in the root of the repository and show them.\n",
    "for x in range(len(collage.collages)):\n",
    "    single_collage = collage.collages[x]\n",
    "    print(f'Original Image {x + 1}')\n",
    "    display(Image.open(image_paths[x]))\n",
    "\n",
    "    output_directory = f'../../output_data/{date_string}-image{x + 1}'\n",
    "\n",
    "    pathlib.Path(output_directory).mkdir(parents=True, exist_ok=True) \n",
    "\n",
    "    for feature in range(13):\n",
    "        write_haralick_image(single_collage, feature, output_directory, image_paths[x])\n",
    "        print(f'Image {x + 1} Haralick Feature {feature + 1}')\n",
    "        display(Image.open(f'{output_directory}/haralick-feature-{feature + 1}.png'))"
   ]
  }
 ],
 "metadata": {
  "kernelspec": {
   "display_name": "Python 3",
   "language": "python",
   "name": "python3"
  },
  "language_info": {
   "codemirror_mode": {
    "name": "ipython",
    "version": 3
   },
   "file_extension": ".py",
   "mimetype": "text/x-python",
   "name": "python",
   "nbconvert_exporter": "python",
   "pygments_lexer": "ipython3",
   "version": "3.8.2"
  }
 },
 "nbformat": 4,
 "nbformat_minor": 4
}
