{
 "cells": [
  {
   "cell_type": "code",
   "execution_count": null,
   "metadata": {},
   "outputs": [],
   "source": [
    "import matplotlib.pyplot as plt\n",
    "import numpy as np\n",
    "import random\n",
    "import math\n",
    "import SimpleITK as sitk\n",
    "import mahotas as mt\n",
    "import imageio\n",
    "\n",
    "from PIL import Image\n",
    "from matplotlib.patches import Rectangle\n",
    "from scipy import linalg\n",
    "from skimage.util.shape import view_as_windows\n",
    "from matplotlib.gridspec import GridSpec\n",
    "from mpl_toolkits.axes_grid1 import make_axes_locatable\n",
    "from itertools import product\n",
    "from skimage.feature.texture import greycomatrix\n",
    "from collageradiomics import Collage, HaralickFeature, show_colored_image, scale_array_for_image, highlight_rectangle_on_image\n",
    "from datetime import datetime"
   ]
  },
  {
   "cell_type": "code",
   "execution_count": null,
   "metadata": {
    "scrolled": true
   },
   "outputs": [],
   "source": [
    "# Read image.\n",
    "img_s = sitk.ReadImage('../../sample_data/ImageSlice.png')\n",
    "img_array = sitk.GetArrayFromImage(img_s)"
   ]
  },
  {
   "cell_type": "code",
   "execution_count": null,
   "metadata": {},
   "outputs": [],
   "source": [
    "# Create window.\n",
    "svd_radius = 5\n",
    "patch_window_width = 30\n",
    "patch_window_height = 30\n",
    "mask_min_x = 252\n",
    "mask_min_y = 193\n",
    "mask_max_x = mask_min_x + patch_window_width\n",
    "mask_max_y = mask_min_y + patch_window_height"
   ]
  },
  {
   "cell_type": "code",
   "execution_count": null,
   "metadata": {},
   "outputs": [],
   "source": [
    "# AngularSecondMoment\n",
    "# Contrast\n",
    "# Correlation\n",
    "# SumOfSquareVariance\n",
    "# SumAverage\n",
    "# SumVariance\n",
    "# SumEntropy\n",
    "# Entropy\n",
    "# DifferenceVariance\n",
    "# DifferenceEntropy\n",
    "# InformationMeasureOfCorrelation1\n",
    "# InformationMeasureOfCorrelation2\n",
    "# MaximalCorrelationCoefficient\n",
    "# All\n",
    "collage = Collage.from_rectangle(\n",
    "    img_array, \n",
    "    mask_min_x, \n",
    "    mask_min_y, \n",
    "    patch_window_width, \n",
    "    patch_window_height, \n",
    "    svd_radius, \n",
    "    verbose_logging=True,\n",
    "    haralick_feature_list=[HaralickFeature.SumOfSquareVariance]\n",
    ")"
   ]
  },
  {
   "cell_type": "code",
   "execution_count": null,
   "metadata": {
    "scrolled": false
   },
   "outputs": [],
   "source": [
    "# Run CoLlage Algorithm.\n",
    "collage.execute()"
   ]
  },
  {
   "cell_type": "code",
   "execution_count": null,
   "metadata": {},
   "outputs": [],
   "source": [
    "import logging\n",
    "logger = logging.getLogger('imageio').setLevel(logging.ERROR)\n",
    "\n",
    "def scale_array_for_image(array_to_scale):\n",
    "    flat_array = array_to_scale.flatten()\n",
    "    minimum = float(min(flat_array))\n",
    "    maximum = float(max(flat_array))\n",
    "    array_range = maximum - minimum\n",
    "    array_to_scale = array_to_scale - minimum\n",
    "    array_to_scale /= array_range\n",
    "    array_to_scale *= 255\n",
    "    return array_to_scale\n",
    "\n",
    "def write_collage_image(feature, directory):\n",
    "    collage_array = scale_array_for_image(collage.haralick_features[:,:,feature])\n",
    "    collage_array = collage_array.astype('uint8')\n",
    "    imageio.imwrite(f'{directory}/collage-feature-{feature + 1}.png', plt.cm.jet(collage_array))\n",
    "    img = Image.open(f'{directory}/collage-feature-{feature + 1}.png')\n",
    "    img = img.convert('RGBA')\n",
    "    pixdata = img.load()\n",
    "\n",
    "    width, height = img.size\n",
    "    for y in range(height):\n",
    "        for x in range(width):\n",
    "            if pixdata[x, y] == (0, 0, 127, 255) or pixdata[x, y] == (127, 0, 0, 255):\n",
    "                pixdata[x, y] = (255, 255, 255, 0)\n",
    "\n",
    "    img.save(f'{directory}/collage-feature-{feature + 1}.png', 'PNG')\n",
    "    background = Image.open('../../sample_data/ImageSlice.png')\n",
    "    foreground = Image.open(f'{directory}/collage-feature-{feature + 1}.png')\n",
    "\n",
    "    background = background.convert('RGBA')\n",
    "    background.paste(foreground, (collage.mask_min_x, collage.mask_min_y), foreground)\n",
    "    background.show()\n",
    "    background.save(f'{directory}/collage-feature-{feature + 1}.png')"
   ]
  },
  {
   "cell_type": "code",
   "execution_count": null,
   "metadata": {
    "scrolled": false
   },
   "outputs": [],
   "source": [
    "import pathlib\n",
    "\n",
    "# Writes images to output_data directory in the root of the repository and show them.\n",
    "print('Original Image')\n",
    "display(Image.open('../../sample_data/ImageSlice.png'))\n",
    "\n",
    "now = datetime.now()\n",
    "date_string = now.strftime(\"%m%d%Y-%H%M%S\")\n",
    "output_directory = f'../../output_data/{date_string}'\n",
    "\n",
    "pathlib.Path(output_directory).mkdir(parents=True, exist_ok=True) \n",
    "\n",
    "feature = 3\n",
    "write_collage_image(feature, output_directory)\n",
    "print(f'collage Feature {feature + 1}')\n",
    "display(Image.open(f'{output_directory}/collage-feature-{feature + 1}.png'))"
   ]
  },
  {
   "cell_type": "code",
   "execution_count": null,
   "metadata": {},
   "outputs": [],
   "source": []
  }
 ],
 "metadata": {
  "kernelspec": {
   "display_name": "Python 3",
   "language": "python",
   "name": "python3"
  },
  "language_info": {
   "codemirror_mode": {
    "name": "ipython",
    "version": 3
   },
   "file_extension": ".py",
   "mimetype": "text/x-python",
   "name": "python",
   "nbconvert_exporter": "python",
   "pygments_lexer": "ipython3",
   "version": "3.8.2"
  }
 },
 "nbformat": 4,
 "nbformat_minor": 4
}
