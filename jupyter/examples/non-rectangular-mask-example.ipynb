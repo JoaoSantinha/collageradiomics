{
 "cells": [
  {
   "cell_type": "code",
   "execution_count": null,
   "metadata": {},
   "outputs": [],
   "source": [
    "import matplotlib.pyplot as plt\n",
    "import numpy as np\n",
    "import random\n",
    "import math\n",
    "import SimpleITK as sitk\n",
    "import mahotas as mt\n",
    "import collageradiomics\n",
    "import imageio\n",
    "\n",
    "from PIL import Image\n",
    "from matplotlib.patches import Rectangle\n",
    "from scipy import linalg\n",
    "from skimage.util.shape import view_as_windows\n",
    "from matplotlib.gridspec import GridSpec\n",
    "from mpl_toolkits.axes_grid1 import make_axes_locatable\n",
    "from itertools import product\n",
    "from skimage.feature.texture import greycomatrix\n",
    "\n",
    "import os\n",
    "import configparser"
   ]
  },
  {
   "cell_type": "code",
   "execution_count": null,
   "metadata": {
    "scrolled": true
   },
   "outputs": [],
   "source": [
    "# Read images\n",
    "image_sitk = sitk.ReadImage('../../sample_data/ImageSlice.png')\n",
    "image_array = sitk.GetArrayFromImage(image_sitk)\n",
    "mask_image = sitk.ReadImage('../../sample_data/ImageNonRectangularMask.png')\n",
    "mask_array = sitk.GetArrayFromImage(mask_image)"
   ]
  },
  {
   "cell_type": "code",
   "execution_count": null,
   "metadata": {},
   "outputs": [],
   "source": [
    "svd_radius = 5"
   ]
  },
  {
   "cell_type": "code",
   "execution_count": null,
   "metadata": {},
   "outputs": [],
   "source": [
    "collage = collageradiomics.Collage(image_array, mask_array, svd_radius, verbose_logging=True)"
   ]
  },
  {
   "cell_type": "code",
   "execution_count": null,
   "metadata": {},
   "outputs": [],
   "source": [
    "haralick_features = collage.execute()"
   ]
  },
  {
   "cell_type": "code",
   "execution_count": null,
   "metadata": {},
   "outputs": [],
   "source": [
    "# Display gradient\n",
    "figure, axes = plt.subplots(1, 2, figsize=(15, 15))\n",
    "collageradiomics.show_colored_image(figure, axes[0], collage.dx)\n",
    "axes[0].set_title(f'Gx size={collage.dx.shape}')\n",
    "collageradiomics.show_colored_image(figure, axes[1], collage.dy)\n",
    "axes[1].set_title(f'Gy size={collage.dy.shape}')"
   ]
  },
  {
   "cell_type": "code",
   "execution_count": null,
   "metadata": {
    "scrolled": false
   },
   "outputs": [],
   "source": [
    "# Display dominant angles\n",
    "figure, axes = plt.subplots(1, 2, figsize=(15, 15))\n",
    "collageradiomics.show_colored_image(figure, axes[0], collage.dominant_angles_array)\n",
    "axes[0].set_title('Dominant Angles (SVD)')\n",
    "collageradiomics.show_colored_image(figure, axes[1], collage.dominant_angles_shaped)\n",
    "axes[1].set_title('Dominant Angles (Color Binned)')"
   ]
  },
  {
   "cell_type": "code",
   "execution_count": null,
   "metadata": {},
   "outputs": [],
   "source": [
    "# Display dominant angles color-binned\n",
    "figure, axis = plt.subplots(1,1, figsize=(5,5))\n",
    "collageradiomics.show_colored_image(figure, axis, collage.dominant_angles_shaped)"
   ]
  },
  {
   "cell_type": "code",
   "execution_count": null,
   "metadata": {},
   "outputs": [],
   "source": [
    "# Display haralick\n",
    "figure, axes = plt.subplots(3, 5, figsize=(15,15))\n",
    "\n",
    "for row in range(3):\n",
    "    for col in range(5):\n",
    "        feature = row*5+col\n",
    "        axis = axes[row][col]\n",
    "        axis.set_axis_off()\n",
    "        if feature>=13:\n",
    "            continue\n",
    "        collageradiomics.show_colored_image(figure, axis, haralick_features[:,:,feature])\n",
    "        axis.set_title(f'Har {feature+1}')"
   ]
  },
  {
   "cell_type": "code",
   "execution_count": null,
   "metadata": {},
   "outputs": [],
   "source": [
    "# Display full Haralick images with masked region.\n",
    "aspect = image_array.shape[1] / image_array.shape[0]\n",
    "figsize = 15 / aspect\n",
    "figure, axes = plt.subplots(3, 5, figsize=(figsize * aspect, figsize))\n",
    "\n",
    "for row in range(3):\n",
    "    for col in range(5):\n",
    "        feature = row*5+col\n",
    "        axis = axes[row][col]\n",
    "        axis.set_axis_off()\n",
    "        if feature>=13:\n",
    "            continue\n",
    "        collageradiomics.show_colored_image(figure, axis, collage.full_masked_images[feature])\n",
    "        axis.set_title(f'Haralick {feature+1}')"
   ]
  },
  {
   "cell_type": "code",
   "execution_count": null,
   "metadata": {},
   "outputs": [],
   "source": [
    "# Show preview of larger version of image.\n",
    "plt.figure(figsize = (figsize * aspect, figsize))\n",
    "figure = plt.imshow(collage.full_masked_images[0], cmap = plt.cm.jet)\n",
    "figure.axes.get_xaxis().set_visible(False)\n",
    "figure.axes.get_yaxis().set_visible(False)\n",
    "plt.title('Haralick 1 Preview')"
   ]
  },
  {
   "cell_type": "code",
   "execution_count": null,
   "metadata": {},
   "outputs": [],
   "source": [
    "import logging\n",
    "logger = logging.getLogger('imageio').setLevel(logging.ERROR)\n",
    "\n",
    "def scale_array_for_image(array_to_scale):\n",
    "    flat_array = array_to_scale.flatten()\n",
    "    minimum = float(min(flat_array))\n",
    "    maximum = float(max(flat_array))\n",
    "    array_range = maximum - minimum\n",
    "    array_to_scale = array_to_scale - minimum\n",
    "    array_to_scale /= array_range\n",
    "    array_to_scale *= 255\n",
    "    return array_to_scale\n",
    "\n",
    "def write_haralick_image(feature):\n",
    "    haralick = collageradiomics.scale_array_for_image(collage.haralick_features[:,:,feature])\n",
    "    haralick = haralick.astype('uint8')\n",
    "    imageio.imwrite(f'../../output_data/haralick-feature-{feature + 1}.png', plt.cm.jet(haralick))\n",
    "    img = Image.open(f'../../output_data/haralick-feature-{feature + 1}.png')\n",
    "    img = img.convert('RGBA')\n",
    "    pixdata = img.load()\n",
    "\n",
    "    width, height = img.size\n",
    "    for y in range(height):\n",
    "        for x in range(width):\n",
    "            if pixdata[x, y] == (0, 0, 127, 255) or pixdata[x, y] == (127, 0, 0, 255):\n",
    "                pixdata[x, y] = (255, 255, 255, 0)\n",
    "\n",
    "    img.save(f'../../output_data/haralick-feature-{feature + 1}.png', 'PNG')\n",
    "    background = Image.open('../../sample_data/ImageSlice.png')\n",
    "    foreground = Image.open(f'../../output_data/haralick-feature-{feature + 1}.png')\n",
    "\n",
    "    background = background.convert('RGBA')\n",
    "    background.paste(foreground, (collage.mask_min_x, collage.mask_min_y), foreground)\n",
    "    background.show()\n",
    "    background.save(f'../../output_data/haralick-feature-{feature + 1}.png')"
   ]
  },
  {
   "cell_type": "code",
   "execution_count": null,
   "metadata": {
    "scrolled": false
   },
   "outputs": [],
   "source": [
    "# Writes images to output_data directory in the root of the repository and show them.\n",
    "for feature in range(13):\n",
    "    write_haralick_image(feature)\n",
    "    print(f'Haralick Feature {feature + 1}')\n",
    "    display(Image.open(f'../../output_data/haralick-feature-{feature + 1}.png'))"
   ]
  }
 ],
 "metadata": {
  "kernelspec": {
   "display_name": "Python 3",
   "language": "python",
   "name": "python3"
  },
  "language_info": {
   "codemirror_mode": {
    "name": "ipython",
    "version": 3
   },
   "file_extension": ".py",
   "mimetype": "text/x-python",
   "name": "python",
   "nbconvert_exporter": "python",
   "pygments_lexer": "ipython3",
   "version": "3.8.2"
  }
 },
 "nbformat": 4,
 "nbformat_minor": 4
}
